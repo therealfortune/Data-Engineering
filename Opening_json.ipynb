{
  "nbformat": 4,
  "nbformat_minor": 0,
  "metadata": {
    "colab": {
      "name": "Opening json.ipynb",
      "provenance": [],
      "authorship_tag": "ABX9TyNnOBxu61geBgLaIHACR3RA",
      "include_colab_link": true
    },
    "kernelspec": {
      "name": "python3",
      "display_name": "Python 3"
    },
    "language_info": {
      "name": "python"
    }
  },
  "cells": [
    {
      "cell_type": "markdown",
      "metadata": {
        "id": "view-in-github",
        "colab_type": "text"
      },
      "source": [
        "<a href=\"https://colab.research.google.com/github/therealfortune/Data-Engineering/blob/master/Opening_json.ipynb\" target=\"_parent\"><img src=\"https://colab.research.google.com/assets/colab-badge.svg\" alt=\"Open In Colab\"/></a>"
      ]
    },
    {
      "cell_type": "code",
      "execution_count": 103,
      "metadata": {
        "id": "e387t3YCbN6O"
      },
      "outputs": [],
      "source": [
        "import pandas as pd\n",
        "import requests\n",
        "import json\n",
        "from urllib.request import urlopen"
      ]
    },
    {
      "cell_type": "markdown",
      "source": [
        "FROM FILE"
      ],
      "metadata": {
        "id": "wFkbkEx0os8H"
      }
    },
    {
      "cell_type": "code",
      "source": [
        "jj = pd.read_json(\"PT1H.json\", lines = True)\n"
      ],
      "metadata": {
        "id": "DwwG9MlEbWho"
      },
      "execution_count": 37,
      "outputs": []
    },
    {
      "cell_type": "code",
      "source": [
        "jj.head()"
      ],
      "metadata": {
        "colab": {
          "base_uri": "https://localhost:8080/",
          "height": 337
        },
        "id": "kiN3Tg9vba-G",
        "outputId": "de72e66f-20bf-4462-8337-d36cac7d90b6"
      },
      "execution_count": 38,
      "outputs": [
        {
          "output_type": "execute_result",
          "data": {
            "text/plain": [
              "   count  total  minimum  maximum  average  \\\n",
              "0      1   0.00     0.00     0.00     0.00   \n",
              "1      1   0.01     0.01     0.01     0.01   \n",
              "2      1   0.00     0.00     0.00     0.00   \n",
              "3      1  16.00    16.00    16.00    16.00   \n",
              "4      1  16.00    16.00    16.00    16.00   \n",
              "\n",
              "                                          resourceId  \\\n",
              "0  /SUBSCRIPTIONS/E5250E15-0516-48F0-889B-DAE6C15...   \n",
              "1  /SUBSCRIPTIONS/E5250E15-0516-48F0-889B-DAE6C15...   \n",
              "2  /SUBSCRIPTIONS/E5250E15-0516-48F0-889B-DAE6C15...   \n",
              "3  /SUBSCRIPTIONS/E5250E15-0516-48F0-889B-DAE6C15...   \n",
              "4  /SUBSCRIPTIONS/E5250E15-0516-48F0-889B-DAE6C15...   \n",
              "\n",
              "                           time      metricName timeGrain  \n",
              "0  2021-02-16T17:36:00.0000000Z     cpu_percent      PT1M  \n",
              "1  2021-02-16T17:37:00.0000000Z     cpu_percent      PT1M  \n",
              "2  2021-02-16T17:38:00.0000000Z     cpu_percent      PT1M  \n",
              "3  2021-02-16T17:36:00.0000000Z  memory_percent      PT1M  \n",
              "4  2021-02-16T17:37:00.0000000Z  memory_percent      PT1M  "
            ],
            "text/html": [
              "\n",
              "  <div id=\"df-22d20477-8768-472e-b330-3e82d44f9750\">\n",
              "    <div class=\"colab-df-container\">\n",
              "      <div>\n",
              "<style scoped>\n",
              "    .dataframe tbody tr th:only-of-type {\n",
              "        vertical-align: middle;\n",
              "    }\n",
              "\n",
              "    .dataframe tbody tr th {\n",
              "        vertical-align: top;\n",
              "    }\n",
              "\n",
              "    .dataframe thead th {\n",
              "        text-align: right;\n",
              "    }\n",
              "</style>\n",
              "<table border=\"1\" class=\"dataframe\">\n",
              "  <thead>\n",
              "    <tr style=\"text-align: right;\">\n",
              "      <th></th>\n",
              "      <th>count</th>\n",
              "      <th>total</th>\n",
              "      <th>minimum</th>\n",
              "      <th>maximum</th>\n",
              "      <th>average</th>\n",
              "      <th>resourceId</th>\n",
              "      <th>time</th>\n",
              "      <th>metricName</th>\n",
              "      <th>timeGrain</th>\n",
              "    </tr>\n",
              "  </thead>\n",
              "  <tbody>\n",
              "    <tr>\n",
              "      <th>0</th>\n",
              "      <td>1</td>\n",
              "      <td>0.00</td>\n",
              "      <td>0.00</td>\n",
              "      <td>0.00</td>\n",
              "      <td>0.00</td>\n",
              "      <td>/SUBSCRIPTIONS/E5250E15-0516-48F0-889B-DAE6C15...</td>\n",
              "      <td>2021-02-16T17:36:00.0000000Z</td>\n",
              "      <td>cpu_percent</td>\n",
              "      <td>PT1M</td>\n",
              "    </tr>\n",
              "    <tr>\n",
              "      <th>1</th>\n",
              "      <td>1</td>\n",
              "      <td>0.01</td>\n",
              "      <td>0.01</td>\n",
              "      <td>0.01</td>\n",
              "      <td>0.01</td>\n",
              "      <td>/SUBSCRIPTIONS/E5250E15-0516-48F0-889B-DAE6C15...</td>\n",
              "      <td>2021-02-16T17:37:00.0000000Z</td>\n",
              "      <td>cpu_percent</td>\n",
              "      <td>PT1M</td>\n",
              "    </tr>\n",
              "    <tr>\n",
              "      <th>2</th>\n",
              "      <td>1</td>\n",
              "      <td>0.00</td>\n",
              "      <td>0.00</td>\n",
              "      <td>0.00</td>\n",
              "      <td>0.00</td>\n",
              "      <td>/SUBSCRIPTIONS/E5250E15-0516-48F0-889B-DAE6C15...</td>\n",
              "      <td>2021-02-16T17:38:00.0000000Z</td>\n",
              "      <td>cpu_percent</td>\n",
              "      <td>PT1M</td>\n",
              "    </tr>\n",
              "    <tr>\n",
              "      <th>3</th>\n",
              "      <td>1</td>\n",
              "      <td>16.00</td>\n",
              "      <td>16.00</td>\n",
              "      <td>16.00</td>\n",
              "      <td>16.00</td>\n",
              "      <td>/SUBSCRIPTIONS/E5250E15-0516-48F0-889B-DAE6C15...</td>\n",
              "      <td>2021-02-16T17:36:00.0000000Z</td>\n",
              "      <td>memory_percent</td>\n",
              "      <td>PT1M</td>\n",
              "    </tr>\n",
              "    <tr>\n",
              "      <th>4</th>\n",
              "      <td>1</td>\n",
              "      <td>16.00</td>\n",
              "      <td>16.00</td>\n",
              "      <td>16.00</td>\n",
              "      <td>16.00</td>\n",
              "      <td>/SUBSCRIPTIONS/E5250E15-0516-48F0-889B-DAE6C15...</td>\n",
              "      <td>2021-02-16T17:37:00.0000000Z</td>\n",
              "      <td>memory_percent</td>\n",
              "      <td>PT1M</td>\n",
              "    </tr>\n",
              "  </tbody>\n",
              "</table>\n",
              "</div>\n",
              "      <button class=\"colab-df-convert\" onclick=\"convertToInteractive('df-22d20477-8768-472e-b330-3e82d44f9750')\"\n",
              "              title=\"Convert this dataframe to an interactive table.\"\n",
              "              style=\"display:none;\">\n",
              "        \n",
              "  <svg xmlns=\"http://www.w3.org/2000/svg\" height=\"24px\"viewBox=\"0 0 24 24\"\n",
              "       width=\"24px\">\n",
              "    <path d=\"M0 0h24v24H0V0z\" fill=\"none\"/>\n",
              "    <path d=\"M18.56 5.44l.94 2.06.94-2.06 2.06-.94-2.06-.94-.94-2.06-.94 2.06-2.06.94zm-11 1L8.5 8.5l.94-2.06 2.06-.94-2.06-.94L8.5 2.5l-.94 2.06-2.06.94zm10 10l.94 2.06.94-2.06 2.06-.94-2.06-.94-.94-2.06-.94 2.06-2.06.94z\"/><path d=\"M17.41 7.96l-1.37-1.37c-.4-.4-.92-.59-1.43-.59-.52 0-1.04.2-1.43.59L10.3 9.45l-7.72 7.72c-.78.78-.78 2.05 0 2.83L4 21.41c.39.39.9.59 1.41.59.51 0 1.02-.2 1.41-.59l7.78-7.78 2.81-2.81c.8-.78.8-2.07 0-2.86zM5.41 20L4 18.59l7.72-7.72 1.47 1.35L5.41 20z\"/>\n",
              "  </svg>\n",
              "      </button>\n",
              "      \n",
              "  <style>\n",
              "    .colab-df-container {\n",
              "      display:flex;\n",
              "      flex-wrap:wrap;\n",
              "      gap: 12px;\n",
              "    }\n",
              "\n",
              "    .colab-df-convert {\n",
              "      background-color: #E8F0FE;\n",
              "      border: none;\n",
              "      border-radius: 50%;\n",
              "      cursor: pointer;\n",
              "      display: none;\n",
              "      fill: #1967D2;\n",
              "      height: 32px;\n",
              "      padding: 0 0 0 0;\n",
              "      width: 32px;\n",
              "    }\n",
              "\n",
              "    .colab-df-convert:hover {\n",
              "      background-color: #E2EBFA;\n",
              "      box-shadow: 0px 1px 2px rgba(60, 64, 67, 0.3), 0px 1px 3px 1px rgba(60, 64, 67, 0.15);\n",
              "      fill: #174EA6;\n",
              "    }\n",
              "\n",
              "    [theme=dark] .colab-df-convert {\n",
              "      background-color: #3B4455;\n",
              "      fill: #D2E3FC;\n",
              "    }\n",
              "\n",
              "    [theme=dark] .colab-df-convert:hover {\n",
              "      background-color: #434B5C;\n",
              "      box-shadow: 0px 1px 3px 1px rgba(0, 0, 0, 0.15);\n",
              "      filter: drop-shadow(0px 1px 2px rgba(0, 0, 0, 0.3));\n",
              "      fill: #FFFFFF;\n",
              "    }\n",
              "  </style>\n",
              "\n",
              "      <script>\n",
              "        const buttonEl =\n",
              "          document.querySelector('#df-22d20477-8768-472e-b330-3e82d44f9750 button.colab-df-convert');\n",
              "        buttonEl.style.display =\n",
              "          google.colab.kernel.accessAllowed ? 'block' : 'none';\n",
              "\n",
              "        async function convertToInteractive(key) {\n",
              "          const element = document.querySelector('#df-22d20477-8768-472e-b330-3e82d44f9750');\n",
              "          const dataTable =\n",
              "            await google.colab.kernel.invokeFunction('convertToInteractive',\n",
              "                                                     [key], {});\n",
              "          if (!dataTable) return;\n",
              "\n",
              "          const docLinkHtml = 'Like what you see? Visit the ' +\n",
              "            '<a target=\"_blank\" href=https://colab.research.google.com/notebooks/data_table.ipynb>data table notebook</a>'\n",
              "            + ' to learn more about interactive tables.';\n",
              "          element.innerHTML = '';\n",
              "          dataTable['output_type'] = 'display_data';\n",
              "          await google.colab.output.renderOutput(dataTable, element);\n",
              "          const docLink = document.createElement('div');\n",
              "          docLink.innerHTML = docLinkHtml;\n",
              "          element.appendChild(docLink);\n",
              "        }\n",
              "      </script>\n",
              "    </div>\n",
              "  </div>\n",
              "  "
            ]
          },
          "metadata": {},
          "execution_count": 38
        }
      ]
    },
    {
      "cell_type": "code",
      "source": [
        "re = requests.get(\"https://raw.githubusercontent.com/phtelang/Causes-of-Death-in-New-York-City/master/NY_cause_of_death.json\")"
      ],
      "metadata": {
        "id": "BV6ttH2dbc6y"
      },
      "execution_count": 5,
      "outputs": []
    },
    {
      "cell_type": "markdown",
      "source": [
        "READING JSON FROM A URL"
      ],
      "metadata": {
        "id": "kQJBUsX5hue7"
      }
    },
    {
      "cell_type": "code",
      "source": [
        "url = 'https://data.epa.gov/efservice/PUB_DIM_FACILITY/ROWS/0:10/JSON'"
      ],
      "metadata": {
        "id": "of7V0EJ8cN67"
      },
      "execution_count": 83,
      "outputs": []
    },
    {
      "cell_type": "markdown",
      "source": [
        "Using json_normalize and requests"
      ],
      "metadata": {
        "id": "xBKbz2UJn6GX"
      }
    },
    {
      "cell_type": "code",
      "source": [
        "json = requests.get(url).json()\n",
        "df = pd.json_normalize(json)"
      ],
      "metadata": {
        "id": "HKEmxEcDmyCW"
      },
      "execution_count": 97,
      "outputs": []
    }
  ]
}